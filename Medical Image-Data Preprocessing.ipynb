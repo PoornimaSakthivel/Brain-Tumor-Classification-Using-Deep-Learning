{
 "cells": [
  {
   "cell_type": "code",
   "execution_count": 1,
   "id": "57d7bb05-8506-4f7f-9578-2fae1ca6d4bf",
   "metadata": {},
   "outputs": [],
   "source": [
    "import torch\n",
    "from torchvision import transforms\n",
    "from torch.utils.data import DataLoader\n",
    "from torchvision.datasets import ImageFolder\n",
    "from torchvision import datasets"
   ]
  },
  {
   "cell_type": "code",
   "execution_count": 2,
   "id": "1e6f57db-ff3f-4b99-a968-0d3ceb1bd350",
   "metadata": {},
   "outputs": [],
   "source": [
    "t_pipeline = transforms.Compose([ \n",
    "    transforms.RandomRotation(30),\n",
    "    transforms.RandomHorizontalFlip(),\n",
    "    transforms.RandomVerticalFlip(),\n",
    "   transforms.RandomResizedCrop(224, scale=(0.8, 1.0)), \n",
    "  transforms.Resize((224, 224)),          \n",
    "      transforms.ToTensor(), \n",
    "    transforms.Normalize(mean=[0.5, 0.5, 0.5], std=[0.5, 0.5, 0.5],) \n",
    "])"
   ]
  },
  {
   "cell_type": "code",
   "execution_count": 3,
   "id": "fe70e3a6-c5c7-4f3c-9121-f108b8bd67f5",
   "metadata": {},
   "outputs": [],
   "source": [
    "data_dir_train =  r'C:\\Users\\POORNIMA\\Desktop\\POORNIMA\\DataScienceProjects\\Final Project\\brain_tumor_dataset (1)\\Training' \n",
    "data_dir_test =  r'C:\\Users\\POORNIMA\\Desktop\\POORNIMA\\DataScienceProjects\\Final Project\\brain_tumor_dataset (1)\\Testing' \n",
    "train_dataset = ImageFolder(root=data_dir_train, transform = t_pipeline)\n",
    "test_dataset = ImageFolder(root=data_dir_test, transform = t_pipeline)\n",
    "\n",
    "\n",
    "trainloader = DataLoader(train_dataset, batch_size = 64, shuffle = True)\n",
    "testloader = DataLoader(test_dataset, batch_size = 64, shuffle = False)\n"
   ]
  },
  {
   "cell_type": "code",
   "execution_count": 4,
   "id": "f5ef6e1e-6430-4a6f-a944-8ea335328583",
   "metadata": {},
   "outputs": [
    {
     "data": {
      "text/plain": [
       "Dataset ImageFolder\n",
       "    Number of datapoints: 5712\n",
       "    Root location: C:\\Users\\POORNIMA\\Desktop\\POORNIMA\\DataScienceProjects\\Final Project\\brain_tumor_dataset (1)\\Training\n",
       "    StandardTransform\n",
       "Transform: Compose(\n",
       "               RandomRotation(degrees=[-30.0, 30.0], interpolation=nearest, expand=False, fill=0)\n",
       "               RandomHorizontalFlip(p=0.5)\n",
       "               RandomVerticalFlip(p=0.5)\n",
       "               RandomResizedCrop(size=(224, 224), scale=(0.8, 1.0), ratio=(0.75, 1.3333), interpolation=bilinear, antialias=True)\n",
       "               Resize(size=(224, 224), interpolation=bilinear, max_size=None, antialias=True)\n",
       "               ToTensor()\n",
       "               Normalize(mean=[0.5, 0.5, 0.5], std=[0.5, 0.5, 0.5])\n",
       "           )"
      ]
     },
     "execution_count": 4,
     "metadata": {},
     "output_type": "execute_result"
    }
   ],
   "source": [
    "train_dataset"
   ]
  },
  {
   "cell_type": "code",
   "execution_count": 5,
   "id": "38d3b1cf-fd3d-4033-983e-eadf1c3317a1",
   "metadata": {},
   "outputs": [
    {
     "data": {
      "text/plain": [
       "Dataset ImageFolder\n",
       "    Number of datapoints: 1311\n",
       "    Root location: C:\\Users\\POORNIMA\\Desktop\\POORNIMA\\DataScienceProjects\\Final Project\\brain_tumor_dataset (1)\\Testing\n",
       "    StandardTransform\n",
       "Transform: Compose(\n",
       "               RandomRotation(degrees=[-30.0, 30.0], interpolation=nearest, expand=False, fill=0)\n",
       "               RandomHorizontalFlip(p=0.5)\n",
       "               RandomVerticalFlip(p=0.5)\n",
       "               RandomResizedCrop(size=(224, 224), scale=(0.8, 1.0), ratio=(0.75, 1.3333), interpolation=bilinear, antialias=True)\n",
       "               Resize(size=(224, 224), interpolation=bilinear, max_size=None, antialias=True)\n",
       "               ToTensor()\n",
       "               Normalize(mean=[0.5, 0.5, 0.5], std=[0.5, 0.5, 0.5])\n",
       "           )"
      ]
     },
     "execution_count": 5,
     "metadata": {},
     "output_type": "execute_result"
    }
   ],
   "source": [
    "test_dataset"
   ]
  },
  {
   "cell_type": "code",
   "execution_count": 6,
   "id": "65c59bf0-ae29-4a52-bb4b-fd595b4e44d4",
   "metadata": {},
   "outputs": [
    {
     "name": "stdout",
     "output_type": "stream",
     "text": [
      "Class labels: ['glioma', 'meningioma', 'notumor', 'pituitary']\n"
     ]
    }
   ],
   "source": [
    "print(\"Class labels:\", test_dataset.classes)"
   ]
  },
  {
   "cell_type": "code",
   "execution_count": 7,
   "id": "ca4bf8d0-13eb-4b35-91f3-f057aac1923f",
   "metadata": {},
   "outputs": [
    {
     "name": "stdout",
     "output_type": "stream",
     "text": [
      "Class labels: ['glioma', 'meningioma', 'notumor', 'pituitary']\n"
     ]
    }
   ],
   "source": [
    "print(\"Class labels:\", train_dataset.classes)"
   ]
  },
  {
   "cell_type": "code",
   "execution_count": 8,
   "id": "874f778b-c0b2-465a-aa3b-ece286b7c2ba",
   "metadata": {},
   "outputs": [
    {
     "name": "stdout",
     "output_type": "stream",
     "text": [
      "Index: 0, Image Shape: torch.Size([64, 3, 224, 224]), Label: tensor([1, 2, 1, 3, 2, 2, 2, 0, 1, 0, 1, 3, 2, 3, 2, 3, 1, 1, 1, 2, 0, 3, 0, 0,\n",
      "        2, 1, 0, 2, 3, 1, 3, 2, 1, 1, 3, 0, 2, 0, 1, 0, 1, 0, 3, 1, 3, 3, 1, 2,\n",
      "        2, 2, 3, 2, 2, 0, 3, 0, 2, 3, 3, 1, 3, 3, 3, 0])\n"
     ]
    }
   ],
   "source": [
    "for i, (images, labels) in enumerate(trainloader):\n",
    "    print(f\"Index: {i}, Image Shape: {images.shape}, Label: {labels}\")\n",
    "    break "
   ]
  },
  {
   "cell_type": "code",
   "execution_count": 9,
   "id": "1816ed15-3efe-4a3d-b77b-f364bdf8c4ae",
   "metadata": {},
   "outputs": [
    {
     "name": "stdout",
     "output_type": "stream",
     "text": [
      "Index: 0, Image Shape: torch.Size([3, 224, 224]), Label: 0\n",
      "Index: 1, Image Shape: torch.Size([3, 224, 224]), Label: 0\n",
      "Index: 2, Image Shape: torch.Size([3, 224, 224]), Label: 0\n",
      "Index: 3, Image Shape: torch.Size([3, 224, 224]), Label: 0\n",
      "Index: 4, Image Shape: torch.Size([3, 224, 224]), Label: 0\n",
      "Index: 5, Image Shape: torch.Size([3, 224, 224]), Label: 0\n",
      "Index: 6, Image Shape: torch.Size([3, 224, 224]), Label: 0\n",
      "Index: 7, Image Shape: torch.Size([3, 224, 224]), Label: 0\n",
      "Index: 8, Image Shape: torch.Size([3, 224, 224]), Label: 0\n",
      "Index: 9, Image Shape: torch.Size([3, 224, 224]), Label: 0\n",
      "Index: 10, Image Shape: torch.Size([3, 224, 224]), Label: 0\n"
     ]
    }
   ],
   "source": [
    "for i, (images, labels) in enumerate(train_dataset):\n",
    "    print(f\"Index: {i}, Image Shape: {images.shape}, Label: {labels}\")\n",
    "    if i==10:\n",
    "        break "
   ]
  },
  {
   "cell_type": "code",
   "execution_count": 10,
   "id": "d8dfb3b0-60e3-4d4e-9028-1a57d2f7faa4",
   "metadata": {},
   "outputs": [],
   "source": [
    "device = torch.device('cuda' if torch.cuda.is_available() else 'cpu')\n"
   ]
  },
  {
   "cell_type": "code",
   "execution_count": 11,
   "id": "cc215d1d-b5f1-420d-abff-fd2c7df0b988",
   "metadata": {},
   "outputs": [],
   "source": [
    "import torch\n",
    "import torch.nn as nn\n",
    "import torch.optim as optim"
   ]
  },
  {
   "cell_type": "code",
   "execution_count": 12,
   "id": "08375e92-88b5-4d78-bed1-d811a5e63f81",
   "metadata": {},
   "outputs": [],
   "source": [
    "class CNN(nn.Module):\n",
    "    def __init__(self):\n",
    "        super(CNN, self).__init__()\n",
    "        \n",
    "        # Convolutional layers\n",
    "        self.conv1 = nn.Conv2d(3, 32, kernel_size=3, padding=1)\n",
    "        self.conv2 = nn.Conv2d(32, 64, kernel_size=3, padding=1)\n",
    "        self.conv3 = nn.Conv2d(64, 128, kernel_size=3, padding=1)\n",
    "        \n",
    "        # Max pooling\n",
    "        self.pool = nn.MaxPool2d(2, 2)\n",
    "        \n",
    "        # Fully connected layers\n",
    "        self.fc1 = nn.Linear(128 * 28 * 28, 512)  # 128 channels, 28x28 after pooling\n",
    "        self.fc2 = nn.Linear(512, 4)\n",
    "\n",
    "    def forward(self, x):\n",
    "        x = self.pool(torch.relu(self.conv1(x)))\n",
    "        x = self.pool(torch.relu(self.conv2(x)))\n",
    "        x = self.pool(torch.relu(self.conv3(x)))\n",
    "        \n",
    "        # Flatten the output for fully connected layer\n",
    "        x = x.view(-1, 128 * 28 * 28)\n",
    "        \n",
    "        # Fully connected layers\n",
    "        x = torch.relu(self.fc1(x))\n",
    "        x = self.fc2(x)\n",
    "        \n",
    "        return x"
   ]
  },
  {
   "cell_type": "code",
   "execution_count": 13,
   "id": "5b5298d1-bf11-4cd0-bd71-b750cb1a3731",
   "metadata": {},
   "outputs": [
    {
     "name": "stdout",
     "output_type": "stream",
     "text": [
      "Epoch 1, Batch Loss: 1.3845769166946411\n",
      "Epoch 1, Batch Loss: 1256.358642578125\n",
      "Epoch 1, Batch Loss: 18.275327682495117\n",
      "Epoch 1, Batch Loss: 1.974390983581543\n",
      "Epoch 1, Batch Loss: 4.436795711517334\n",
      "Epoch 1, Batch Loss: 1.471383810043335\n",
      "Epoch 1, Batch Loss: 2.493215322494507\n",
      "Epoch 1, Batch Loss: 1.2706146240234375\n",
      "Epoch 1, Batch Loss: 1.4790610074996948\n",
      "Epoch 1, Batch Loss: 1.402233600616455\n",
      "Epoch 1, Batch Loss: 1.354838252067566\n",
      "Epoch 1, Batch Loss: 1.3615484237670898\n",
      "Epoch 1, Batch Loss: 1.3350474834442139\n",
      "Epoch 1, Batch Loss: 1.3375974893569946\n",
      "Epoch 1, Batch Loss: 1.3462576866149902\n",
      "Epoch 1, Batch Loss: 1.2608412504196167\n",
      "Epoch 1, Batch Loss: 1.2946237325668335\n",
      "Epoch 1, Batch Loss: 1.1973652839660645\n",
      "Epoch 1, Batch Loss: 1.1454219818115234\n",
      "Epoch 1, Batch Loss: 1.2711600065231323\n",
      "Epoch 1, Batch Loss: 1.2793382406234741\n",
      "Epoch 1, Batch Loss: 1.3292789459228516\n",
      "Epoch 1, Batch Loss: 1.0588607788085938\n",
      "Epoch 1, Batch Loss: 1.171890377998352\n",
      "Epoch 1, Batch Loss: 1.1307134628295898\n",
      "Epoch 1, Batch Loss: 1.192513108253479\n",
      "Epoch 1, Batch Loss: 1.1579688787460327\n",
      "Epoch 1, Batch Loss: 1.1824463605880737\n",
      "Epoch 1, Batch Loss: 0.9629316329956055\n",
      "Epoch 1, Batch Loss: 1.0349104404449463\n",
      "Epoch 1, Batch Loss: 0.9483970403671265\n",
      "Epoch 1, Batch Loss: 1.0629310607910156\n",
      "Epoch 1, Batch Loss: 1.2247610092163086\n",
      "Epoch 1, Batch Loss: 0.9871074557304382\n",
      "Epoch 1, Batch Loss: 1.0314321517944336\n",
      "Epoch 1, Batch Loss: 1.1141080856323242\n",
      "Epoch 1, Batch Loss: 0.9891977310180664\n",
      "Epoch 1, Batch Loss: 1.3400038480758667\n",
      "Epoch 1, Batch Loss: 0.9032623171806335\n",
      "Epoch 1, Batch Loss: 0.9314644932746887\n",
      "Epoch 1, Batch Loss: 0.821220874786377\n",
      "Epoch 1, Batch Loss: 0.9544662237167358\n",
      "Epoch 1, Batch Loss: 0.8308598399162292\n",
      "Epoch 1, Batch Loss: 0.833095371723175\n",
      "Epoch 1, Batch Loss: 0.700175940990448\n",
      "Epoch 1, Batch Loss: 0.9636777639389038\n",
      "Epoch 1, Batch Loss: 0.964143693447113\n",
      "Epoch 1, Batch Loss: 0.7910313606262207\n",
      "Epoch 1, Batch Loss: 0.9699384570121765\n",
      "Epoch 1, Batch Loss: 0.8093060851097107\n",
      "Epoch 1, Batch Loss: 0.8208150863647461\n",
      "Epoch 1, Batch Loss: 0.9125073552131653\n",
      "Epoch 1, Batch Loss: 0.7590352296829224\n",
      "Epoch 1, Batch Loss: 0.8143465518951416\n",
      "Epoch 1, Batch Loss: 0.9761351943016052\n",
      "Epoch 1, Batch Loss: 0.6745157837867737\n",
      "Epoch 1, Batch Loss: 1.079656958580017\n",
      "Epoch 1, Batch Loss: 0.6664485335350037\n",
      "Epoch 1, Batch Loss: 0.7909828424453735\n",
      "Epoch 1, Batch Loss: 0.83254075050354\n",
      "Epoch 1, Batch Loss: 0.7705754041671753\n",
      "Epoch 1, Batch Loss: 0.7832930088043213\n",
      "Epoch 1, Batch Loss: 0.8933101892471313\n",
      "Epoch 1, Batch Loss: 0.805061936378479\n",
      "Epoch 1, Batch Loss: 0.8729972839355469\n",
      "Epoch 1, Batch Loss: 0.8753304481506348\n",
      "Epoch 1, Batch Loss: 1.1253420114517212\n",
      "Epoch 1, Batch Loss: 0.9393711090087891\n",
      "Epoch 1, Batch Loss: 0.8727166652679443\n",
      "Epoch 1, Batch Loss: 0.7325052618980408\n",
      "Epoch 1, Batch Loss: 0.9295173287391663\n",
      "Epoch 1, Batch Loss: 0.9404868483543396\n",
      "Epoch 1, Batch Loss: 0.9301193952560425\n",
      "Epoch 1, Batch Loss: 0.9262876510620117\n",
      "Epoch 1, Batch Loss: 0.9797232151031494\n",
      "Epoch 1, Batch Loss: 0.8159260749816895\n",
      "Epoch 1, Batch Loss: 0.9737403392791748\n",
      "Epoch 1, Batch Loss: 0.9045078158378601\n",
      "Epoch 1, Batch Loss: 0.737494170665741\n",
      "Epoch 1, Batch Loss: 0.9828323721885681\n",
      "Epoch 1, Batch Loss: 0.7982316613197327\n",
      "Epoch 1, Batch Loss: 0.9563710689544678\n",
      "Epoch 1, Batch Loss: 0.8318499326705933\n",
      "Epoch 1, Batch Loss: 0.8703051209449768\n",
      "Epoch 1, Batch Loss: 0.8254175782203674\n",
      "Epoch 1, Batch Loss: 0.8193222880363464\n",
      "Epoch 1, Batch Loss: 0.7481468915939331\n",
      "Epoch 1, Batch Loss: 0.8624617457389832\n",
      "Epoch 1, Batch Loss: 0.7151729464530945\n",
      "Epoch 1, Batch Loss: 0.7436057925224304\n",
      "Epoch 1 Average Loss: 15.20457094113032\n"
     ]
    }
   ],
   "source": [
    "model = CNN()\n",
    "loss_obj = nn.CrossEntropyLoss()\n",
    "optimizer = optim.Adam(model.parameters(), lr=0.01)\n",
    "\n",
    "for epoch in range(1):\n",
    "    losses = []\n",
    "    for data in trainloader:\n",
    "        images, labels = data\n",
    "        optimizer.zero_grad()\n",
    "        outputs = model(images)\n",
    "        loss = loss_obj(outputs, labels)\n",
    "\n",
    "        losses.append(loss.item())\n",
    "\n",
    "        loss.backward()\n",
    "        optimizer.step()\n",
    "\n",
    "       \n",
    "        print(f\"Epoch {epoch+1}, Batch Loss: {loss.item()}\")\n",
    "\n",
    "   \n",
    "    avg_loss = sum(losses) / len(losses)\n",
    "    print(f\"Epoch {epoch+1} Average Loss: {avg_loss}\")\n"
   ]
  },
  {
   "cell_type": "code",
   "execution_count": null,
   "id": "2e1a71b7-5237-4a8e-a96f-faa7992805a7",
   "metadata": {},
   "outputs": [],
   "source": []
  }
 ],
 "metadata": {
  "kernelspec": {
   "display_name": "Python 3 (ipykernel)",
   "language": "python",
   "name": "python3"
  },
  "language_info": {
   "codemirror_mode": {
    "name": "ipython",
    "version": 3
   },
   "file_extension": ".py",
   "mimetype": "text/x-python",
   "name": "python",
   "nbconvert_exporter": "python",
   "pygments_lexer": "ipython3",
   "version": "3.11.7"
  }
 },
 "nbformat": 4,
 "nbformat_minor": 5
}
